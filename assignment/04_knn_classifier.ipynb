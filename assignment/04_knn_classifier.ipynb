{
 "cells": [
  {
   "cell_type": "code",
   "execution_count": 1,
   "metadata": {
    "collapsed": true
   },
   "outputs": [],
   "source": [
    "import pandas as pd\n",
    "import numpy as np\n",
    "\n",
    "import matplotlib.pyplot as plt\n",
    "import seaborn as sns\n",
    "\n",
    "from sklearn.neighbors import KNeighborsClassifier\n",
    "from sklearn.metrics import classification_report"
   ]
  },
  {
   "cell_type": "code",
   "execution_count": 4,
   "metadata": {
    "pycharm": {
     "name": "#%%\n"
    }
   },
   "outputs": [],
   "source": [
    "df_train = pd.read_csv('train3-035.csv')\n",
    "df_test = pd.read_csv('test3-035.csv')"
   ]
  },
  {
   "cell_type": "code",
   "execution_count": 10,
   "metadata": {
    "pycharm": {
     "name": "#%%\n"
    }
   },
   "outputs": [],
   "source": [
    "\n",
    "from sklearn.preprocessing import StandardScaler\n",
    "scaler = StandardScaler()"
   ]
  },
  {
   "cell_type": "code",
   "execution_count": 12,
   "metadata": {
    "pycharm": {
     "name": "#%%\n"
    }
   },
   "outputs": [
    {
     "data": {
      "text/plain": [
       "StandardScaler()"
      ]
     },
     "execution_count": 12,
     "metadata": {},
     "output_type": "execute_result"
    }
   ],
   "source": [
    "scaler.fit(df_train.drop('X..language', axis=1))"
   ]
  },
  {
   "cell_type": "code",
   "execution_count": 13,
   "metadata": {
    "pycharm": {
     "name": "#%%\n"
    }
   },
   "outputs": [],
   "source": [
    "scaled_features = scaler.transform(df_train.drop('X..language', axis=1))"
   ]
  },
  {
   "cell_type": "code",
   "execution_count": 14,
   "metadata": {
    "pycharm": {
     "name": "#%%\n"
    }
   },
   "outputs": [
    {
     "data": {
      "text/html": [
       "<div>\n",
       "<style scoped>\n",
       "    .dataframe tbody tr th:only-of-type {\n",
       "        vertical-align: middle;\n",
       "    }\n",
       "\n",
       "    .dataframe tbody tr th {\n",
       "        vertical-align: top;\n",
       "    }\n",
       "\n",
       "    .dataframe thead th {\n",
       "        text-align: right;\n",
       "    }\n",
       "</style>\n",
       "<table border=\"1\" class=\"dataframe\">\n",
       "  <thead>\n",
       "    <tr style=\"text-align: right;\">\n",
       "      <th></th>\n",
       "      <th>X..language</th>\n",
       "      <th>X1</th>\n",
       "      <th>X2</th>\n",
       "      <th>X3</th>\n",
       "      <th>X4</th>\n",
       "      <th>X5</th>\n",
       "      <th>X6</th>\n",
       "      <th>X7</th>\n",
       "      <th>X8</th>\n",
       "      <th>X9</th>\n",
       "      <th>X10</th>\n",
       "      <th>X11</th>\n",
       "      <th>X12</th>\n",
       "    </tr>\n",
       "  </thead>\n",
       "  <tbody>\n",
       "    <tr>\n",
       "      <th>0</th>\n",
       "      <td>3</td>\n",
       "      <td>19.01040</td>\n",
       "      <td>0.615557</td>\n",
       "      <td>17.9175</td>\n",
       "      <td>24.1379</td>\n",
       "      <td>6.43722</td>\n",
       "      <td>24.6748</td>\n",
       "      <td>6.53387</td>\n",
       "      <td>24.9091</td>\n",
       "      <td>19.7648</td>\n",
       "      <td>-0.516485</td>\n",
       "      <td>22.4853</td>\n",
       "      <td>-2.841630</td>\n",
       "    </tr>\n",
       "    <tr>\n",
       "      <th>1</th>\n",
       "      <td>0</td>\n",
       "      <td>9.54015</td>\n",
       "      <td>0.839993</td>\n",
       "      <td>19.7788</td>\n",
       "      <td>16.7188</td>\n",
       "      <td>4.65268</td>\n",
       "      <td>24.0906</td>\n",
       "      <td>2.22453</td>\n",
       "      <td>21.1182</td>\n",
       "      <td>17.6427</td>\n",
       "      <td>-1.251420</td>\n",
       "      <td>13.0626</td>\n",
       "      <td>-0.712351</td>\n",
       "    </tr>\n",
       "    <tr>\n",
       "      <th>2</th>\n",
       "      <td>0</td>\n",
       "      <td>7.58496</td>\n",
       "      <td>1.967590</td>\n",
       "      <td>19.0891</td>\n",
       "      <td>13.6588</td>\n",
       "      <td>7.39441</td>\n",
       "      <td>27.2866</td>\n",
       "      <td>1.72535</td>\n",
       "      <td>22.6099</td>\n",
       "      <td>16.7421</td>\n",
       "      <td>-0.036236</td>\n",
       "      <td>15.2704</td>\n",
       "      <td>0.115583</td>\n",
       "    </tr>\n",
       "    <tr>\n",
       "      <th>3</th>\n",
       "      <td>3</td>\n",
       "      <td>10.88780</td>\n",
       "      <td>8.102070</td>\n",
       "      <td>17.8949</td>\n",
       "      <td>15.1067</td>\n",
       "      <td>4.30169</td>\n",
       "      <td>23.3552</td>\n",
       "      <td>4.51843</td>\n",
       "      <td>26.6631</td>\n",
       "      <td>16.7780</td>\n",
       "      <td>-0.036472</td>\n",
       "      <td>15.5580</td>\n",
       "      <td>-1.007910</td>\n",
       "    </tr>\n",
       "    <tr>\n",
       "      <th>4</th>\n",
       "      <td>0</td>\n",
       "      <td>6.92324</td>\n",
       "      <td>3.247880</td>\n",
       "      <td>16.6664</td>\n",
       "      <td>17.2250</td>\n",
       "      <td>8.18011</td>\n",
       "      <td>24.5492</td>\n",
       "      <td>3.11016</td>\n",
       "      <td>22.9525</td>\n",
       "      <td>18.2794</td>\n",
       "      <td>0.661447</td>\n",
       "      <td>15.3711</td>\n",
       "      <td>-0.002484</td>\n",
       "    </tr>\n",
       "  </tbody>\n",
       "</table>\n",
       "</div>"
      ],
      "text/plain": [
       "   X..language        X1        X2       X3       X4       X5       X6  \\\n",
       "0            3  19.01040  0.615557  17.9175  24.1379  6.43722  24.6748   \n",
       "1            0   9.54015  0.839993  19.7788  16.7188  4.65268  24.0906   \n",
       "2            0   7.58496  1.967590  19.0891  13.6588  7.39441  27.2866   \n",
       "3            3  10.88780  8.102070  17.8949  15.1067  4.30169  23.3552   \n",
       "4            0   6.92324  3.247880  16.6664  17.2250  8.18011  24.5492   \n",
       "\n",
       "        X7       X8       X9       X10      X11       X12  \n",
       "0  6.53387  24.9091  19.7648 -0.516485  22.4853 -2.841630  \n",
       "1  2.22453  21.1182  17.6427 -1.251420  13.0626 -0.712351  \n",
       "2  1.72535  22.6099  16.7421 -0.036236  15.2704  0.115583  \n",
       "3  4.51843  26.6631  16.7780 -0.036472  15.5580 -1.007910  \n",
       "4  3.11016  22.9525  18.2794  0.661447  15.3711 -0.002484  "
      ]
     },
     "execution_count": 14,
     "metadata": {},
     "output_type": "execute_result"
    }
   ],
   "source": [
    "df_train.head()"
   ]
  },
  {
   "cell_type": "code",
   "execution_count": 17,
   "metadata": {
    "pycharm": {
     "name": "#%%\n"
    }
   },
   "outputs": [],
   "source": [
    "df_feat = pd.DataFrame(scaled_features, columns=df_train.columns[1:])"
   ]
  },
  {
   "cell_type": "code",
   "execution_count": 18,
   "metadata": {
    "pycharm": {
     "name": "#%%\n"
    }
   },
   "outputs": [
    {
     "data": {
      "text/plain": [
       "KNeighborsClassifier(n_neighbors=1)"
      ]
     },
     "execution_count": 18,
     "metadata": {},
     "output_type": "execute_result"
    }
   ],
   "source": [
    "knn = KNeighborsClassifier(1)\n",
    "knn.fit(df_feat, df_train['X..language'])"
   ]
  },
  {
   "cell_type": "code",
   "execution_count": 19,
   "metadata": {
    "pycharm": {
     "name": "#%%\n"
    }
   },
   "outputs": [],
   "source": [
    "pred = knn.predict(df_feat)"
   ]
  },
  {
   "cell_type": "code",
   "execution_count": 20,
   "metadata": {
    "pycharm": {
     "name": "#%%\n"
    }
   },
   "outputs": [
    {
     "name": "stdout",
     "output_type": "stream",
     "text": [
      "              precision    recall  f1-score   support\n",
      "\n",
      "           0       1.00      1.00      1.00        20\n",
      "           3       1.00      1.00      1.00        20\n",
      "           5       1.00      1.00      1.00        28\n",
      "\n",
      "    accuracy                           1.00        68\n",
      "   macro avg       1.00      1.00      1.00        68\n",
      "weighted avg       1.00      1.00      1.00        68\n",
      "\n"
     ]
    }
   ],
   "source": [
    "print(classification_report(df_train['X..language'], pred))"
   ]
  },
  {
   "cell_type": "code",
   "execution_count": 36,
   "metadata": {
    "pycharm": {
     "name": "#%%\n"
    }
   },
   "outputs": [],
   "source": [
    "df_test.rename(columns={'X..X1': 'X1'}, inplace=True)"
   ]
  },
  {
   "cell_type": "code",
   "execution_count": 37,
   "metadata": {
    "pycharm": {
     "name": "#%%\n"
    }
   },
   "outputs": [
    {
     "data": {
      "text/plain": [
       "StandardScaler()"
      ]
     },
     "execution_count": 37,
     "metadata": {},
     "output_type": "execute_result"
    }
   ],
   "source": [
    "scaler.fit(df_test)"
   ]
  },
  {
   "cell_type": "code",
   "execution_count": 38,
   "metadata": {
    "pycharm": {
     "name": "#%%\n"
    }
   },
   "outputs": [],
   "source": [
    "df_test = pd.DataFrame(scaler.transform(df_test), columns=df_test.columns)"
   ]
  },
  {
   "cell_type": "code",
   "execution_count": 41,
   "metadata": {
    "pycharm": {
     "name": "#%%\n"
    }
   },
   "outputs": [],
   "source": [
    "pred = knn.predict(df_test)"
   ]
  },
  {
   "cell_type": "code",
   "execution_count": 45,
   "metadata": {
    "pycharm": {
     "name": "#%%\n"
    }
   },
   "outputs": [],
   "source": [
    "np.savetxt('question3.csv', pred)"
   ]
  },
  {
   "cell_type": "code",
   "execution_count": null,
   "metadata": {
    "pycharm": {
     "name": "#%%\n"
    }
   },
   "outputs": [],
   "source": []
  }
 ],
 "metadata": {
  "kernelspec": {
   "display_name": "Python 3",
   "language": "python",
   "name": "python3"
  },
  "language_info": {
   "codemirror_mode": {
    "name": "ipython",
    "version": 3
   },
   "file_extension": ".py",
   "mimetype": "text/x-python",
   "name": "python",
   "nbconvert_exporter": "python",
   "pygments_lexer": "ipython3",
   "version": "3.8.5"
  }
 },
 "nbformat": 4,
 "nbformat_minor": 1
}